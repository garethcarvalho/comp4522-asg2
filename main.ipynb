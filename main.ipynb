{
 "cells": [
  {
   "cell_type": "code",
   "execution_count": 2,
   "metadata": {},
   "outputs": [],
   "source": [
    "import pandas as pd\n",
    "import sqlite3"
   ]
  },
  {
   "cell_type": "code",
   "execution_count": 9,
   "metadata": {},
   "outputs": [],
   "source": [
    "conn = sqlite3.connect('database.db')\n",
    "cursor = conn.cursor()\n",
    "\n",
    "def create_table_from_csv(cursor: sqlite3.Cursor, tablename: str) -> None:\n",
    "    '''\n",
    "    Creates a table and populates it from a .csv file\n",
    "    specified by `path`.\n",
    "    '''\n",
    "    data = []\n",
    "\n",
    "    # Read the .csv file line-by-line.\n",
    "    with open(f'relations/{tablename}.csv', 'r') as csv_str:\n",
    "        line = csv_str.readline()\n",
    "        while line != '':\n",
    "            line = line.strip().split(',')\n",
    "            data.append(line)\n",
    "            line = csv_str.readline()\n",
    "    \n",
    "    cols = data.pop(0);\n",
    "\n",
    "    cols_str = ''\n",
    "    size = len(cols)\n",
    "    for i in range(size):\n",
    "        cols_str += cols[i] + ' TEXT'\n",
    "        if (i + 1 < size):\n",
    "            cols_str += ', '\n",
    "    \n",
    "    # Dropping the table if it already exists for the purposes of this\n",
    "    # assignment. I understand in scenarios where we care about the persistence of this\n",
    "    # data, we wouldn't do this.\n",
    "    query = f'DROP TABLE IF EXISTS {tablename};'\n",
    "    cursor.execute(query)\n",
    "\n",
    "    query = f'CREATE TABLE {tablename} ({cols_str});'\n",
    "    cursor.execute(query)\n",
    "\n",
    "    for d in data:\n",
    "        values = tuple(d).__str__() if len(d) > 1 else f\"('{d[0]}')\"\n",
    "        query = f'INSERT INTO {tablename} VALUES {values}'\n",
    "        cursor.execute(query);\n",
    "\n",
    "create_table_from_csv(cursor, 'department')\n",
    "create_table_from_csv(cursor, 'employee')\n",
    "create_table_from_csv(cursor, 'female')\n",
    "create_table_from_csv(cursor, 'male')\n",
    "create_table_from_csv(cursor, 'project')\n",
    "create_table_from_csv(cursor, 'salary')\n",
    "create_table_from_csv(cursor, 'supervise')\n",
    "create_table_from_csv(cursor, 'workson')\n",
    "\n",
    "conn.commit()\n",
    "conn.close()"
   ]
  }
 ],
 "metadata": {
  "kernelspec": {
   "display_name": "Python 3",
   "language": "python",
   "name": "python3"
  },
  "language_info": {
   "codemirror_mode": {
    "name": "ipython",
    "version": 3
   },
   "file_extension": ".py",
   "mimetype": "text/x-python",
   "name": "python",
   "nbconvert_exporter": "python",
   "pygments_lexer": "ipython3",
   "version": "3.12.2"
  }
 },
 "nbformat": 4,
 "nbformat_minor": 2
}
