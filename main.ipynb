{
 "cells": [
  {
   "cell_type": "code",
   "execution_count": 23,
   "metadata": {},
   "outputs": [],
   "source": [
    "import pandas as pd\n",
    "import sqlite3"
   ]
  },
  {
   "cell_type": "code",
   "execution_count": 55,
   "metadata": {},
   "outputs": [
    {
     "name": "stdout",
     "output_type": "stream",
     "text": [
      "('john', 'research')\n",
      "('franklin', 'research')\n",
      "('ramesh', 'research')\n",
      "('joyce', 'research')\n"
     ]
    }
   ],
   "source": [
    "conn = sqlite3.connect('database.db')\n",
    "cursor = conn.cursor()\n",
    "\n",
    "def create_table_from_csv(cursor: sqlite3.Cursor, tablename: str) -> None:\n",
    "    '''\n",
    "    Creates a table and populates it from a .csv file\n",
    "    specified by `path`.\n",
    "    '''\n",
    "    data = []\n",
    "\n",
    "    # Read the .csv file line-by-line.\n",
    "    with open(f'relations/{tablename}.csv', 'r') as csv_str:\n",
    "        line = csv_str.readline()\n",
    "        while line != '':\n",
    "            line = line.strip().split(',')\n",
    "            line = tuple(line)\n",
    "            data.append(line)\n",
    "            line = csv_str.readline()\n",
    "    \n",
    "    cols = data.pop(0);\n",
    "\n",
    "    cols_str = ''\n",
    "    size = len(cols)\n",
    "    for i in range(size):\n",
    "        cols_str += cols[i] + ' TEXT'\n",
    "        if (i + 1 < size):\n",
    "            cols_str += ',\\n'\n",
    "\n",
    "    query = f'CREATE TABLE {tablename} ({cols_str});'\n",
    "\n",
    "    # cursor.execute(query)\n",
    "    for d in data:\n",
    "        query = f'INSERT INTO {tablename} VALUES {d.__str__()}'\n",
    "        cursor.execute(query);\n",
    "\n",
    "create_table_from_csv(cursor, 'department')\n",
    "\n",
    "for row in cursor.execute(\"SELECT * FROM department WHERE DEPARTMENT = 'research';\"):\n",
    "    print(row)\n",
    "\n",
    "conn.close()"
   ]
  },
  {
   "cell_type": "code",
   "execution_count": 30,
   "metadata": {},
   "outputs": [
    {
     "name": "stdout",
     "output_type": "stream",
     "text": [
      "('\\ufeffEMPLOYEE_NAME', 'DEPARTMENT')\n"
     ]
    },
    {
     "data": {
      "text/html": [
       "<div>\n",
       "<style scoped>\n",
       "    .dataframe tbody tr th:only-of-type {\n",
       "        vertical-align: middle;\n",
       "    }\n",
       "\n",
       "    .dataframe tbody tr th {\n",
       "        vertical-align: top;\n",
       "    }\n",
       "\n",
       "    .dataframe thead th {\n",
       "        text-align: right;\n",
       "    }\n",
       "</style>\n",
       "<table border=\"1\" class=\"dataframe\">\n",
       "  <thead>\n",
       "    <tr style=\"text-align: right;\">\n",
       "      <th></th>\n",
       "      <th>﻿EMPLOYEE_NAME</th>\n",
       "      <th>DEPARTMENT</th>\n",
       "    </tr>\n",
       "  </thead>\n",
       "  <tbody>\n",
       "    <tr>\n",
       "      <th>0</th>\n",
       "      <td>john</td>\n",
       "      <td>research</td>\n",
       "    </tr>\n",
       "    <tr>\n",
       "      <th>1</th>\n",
       "      <td>franklin</td>\n",
       "      <td>research</td>\n",
       "    </tr>\n",
       "    <tr>\n",
       "      <th>2</th>\n",
       "      <td>alicia</td>\n",
       "      <td>administration</td>\n",
       "    </tr>\n",
       "    <tr>\n",
       "      <th>3</th>\n",
       "      <td>jennifer</td>\n",
       "      <td>administration</td>\n",
       "    </tr>\n",
       "    <tr>\n",
       "      <th>4</th>\n",
       "      <td>ramesh</td>\n",
       "      <td>research</td>\n",
       "    </tr>\n",
       "    <tr>\n",
       "      <th>5</th>\n",
       "      <td>joyce</td>\n",
       "      <td>research</td>\n",
       "    </tr>\n",
       "    <tr>\n",
       "      <th>6</th>\n",
       "      <td>ahmad</td>\n",
       "      <td>administration</td>\n",
       "    </tr>\n",
       "    <tr>\n",
       "      <th>7</th>\n",
       "      <td>james</td>\n",
       "      <td>headquarters</td>\n",
       "    </tr>\n",
       "  </tbody>\n",
       "</table>\n",
       "</div>"
      ],
      "text/plain": [
       "  ﻿EMPLOYEE_NAME      DEPARTMENT\n",
       "0           john        research\n",
       "1       franklin        research\n",
       "2         alicia  administration\n",
       "3       jennifer  administration\n",
       "4         ramesh        research\n",
       "5          joyce        research\n",
       "6          ahmad  administration\n",
       "7          james    headquarters"
      ]
     },
     "execution_count": 30,
     "metadata": {},
     "output_type": "execute_result"
    }
   ],
   "source": [
    "def create_dataframe_from_csv(path: str):\n",
    "    '''\n",
    "    Returns a `DataFrame` from a supplied `path` \n",
    "    to a .csv file. \n",
    "    '''\n",
    "    data = []\n",
    "    \n",
    "    # Read the .csv file line-by-line.\n",
    "    with open(path, 'r') as csv_str:\n",
    "        line = csv_str.readline()\n",
    "        while line != '':\n",
    "            line = line.strip().split(',')\n",
    "            line = tuple(line)\n",
    "            data.append(line)\n",
    "            line = csv_str.readline()\n",
    "    \n",
    "    cols = data.pop(0);\n",
    "    print(cols);\n",
    "    dataframe = pd.DataFrame(data, columns=cols)\n",
    "\n",
    "    return dataframe\n",
    "\n",
    "create_dataframe_from_csv('relations/department.csv')"
   ]
  }
 ],
 "metadata": {
  "kernelspec": {
   "display_name": "Python 3",
   "language": "python",
   "name": "python3"
  },
  "language_info": {
   "codemirror_mode": {
    "name": "ipython",
    "version": 3
   },
   "file_extension": ".py",
   "mimetype": "text/x-python",
   "name": "python",
   "nbconvert_exporter": "python",
   "pygments_lexer": "ipython3",
   "version": "3.11.8"
  }
 },
 "nbformat": 4,
 "nbformat_minor": 2
}
