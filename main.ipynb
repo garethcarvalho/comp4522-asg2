{
 "cells": [
  {
   "cell_type": "code",
   "execution_count": 17,
   "metadata": {},
   "outputs": [],
   "source": [
    "import pandas as pd\n",
    "import sqlite3\n",
    "\n",
    "# A helper function I wrote to import the .csv files\n",
    "# into the sqlite database\n",
    "from helpers import create_table_from_csv\n"
   ]
  },
  {
   "cell_type": "code",
   "execution_count": 18,
   "metadata": {},
   "outputs": [],
   "source": [
    "conn = sqlite3.connect('database.db')\n",
    "cursor = conn.cursor()\n",
    "\n",
    "create_table_from_csv(cursor, 'department', ['TEXT', 'TEXT'])\n",
    "create_table_from_csv(cursor, 'employee', ['INT', 'TEXT'])\n",
    "create_table_from_csv(cursor, 'female', ['TEXT'])\n",
    "create_table_from_csv(cursor, 'male', ['TEXT'])\n",
    "create_table_from_csv(cursor, 'project', ['TEXT'])\n",
    "create_table_from_csv(cursor, 'salary', ['TEXT', 'INT'])\n",
    "create_table_from_csv(cursor, 'supervise', ['TEXT', 'TEXT'])\n",
    "create_table_from_csv(cursor, 'workson', ['TEXT', 'TEXT', 'INT'])\n",
    "\n",
    "conn.commit()\n",
    "conn.close()"
   ]
  },
  {
   "cell_type": "code",
   "execution_count": 20,
   "metadata": {},
   "outputs": [
    {
     "data": {
      "text/html": [
       "<div>\n",
       "<style scoped>\n",
       "    .dataframe tbody tr th:only-of-type {\n",
       "        vertical-align: middle;\n",
       "    }\n",
       "\n",
       "    .dataframe tbody tr th {\n",
       "        vertical-align: top;\n",
       "    }\n",
       "\n",
       "    .dataframe thead th {\n",
       "        text-align: right;\n",
       "    }\n",
       "</style>\n",
       "<table border=\"1\" class=\"dataframe\">\n",
       "  <thead>\n",
       "    <tr style=\"text-align: right;\">\n",
       "      <th></th>\n",
       "      <th>NAME</th>\n",
       "      <th>PROJECT</th>\n",
       "      <th>EFFORT</th>\n",
       "    </tr>\n",
       "  </thead>\n",
       "  <tbody>\n",
       "    <tr>\n",
       "      <th>0</th>\n",
       "      <td>franklin</td>\n",
       "      <td>producty</td>\n",
       "      <td>10</td>\n",
       "    </tr>\n",
       "    <tr>\n",
       "      <th>1</th>\n",
       "      <td>franklin</td>\n",
       "      <td>productz</td>\n",
       "      <td>10</td>\n",
       "    </tr>\n",
       "    <tr>\n",
       "      <th>2</th>\n",
       "      <td>franklin</td>\n",
       "      <td>computerization</td>\n",
       "      <td>10</td>\n",
       "    </tr>\n",
       "    <tr>\n",
       "      <th>3</th>\n",
       "      <td>franklin</td>\n",
       "      <td>reorganization</td>\n",
       "      <td>10</td>\n",
       "    </tr>\n",
       "    <tr>\n",
       "      <th>4</th>\n",
       "      <td>alicia</td>\n",
       "      <td>computerization</td>\n",
       "      <td>10</td>\n",
       "    </tr>\n",
       "    <tr>\n",
       "      <th>5</th>\n",
       "      <td>james</td>\n",
       "      <td>reorganization</td>\n",
       "      <td>10</td>\n",
       "    </tr>\n",
       "  </tbody>\n",
       "</table>\n",
       "</div>"
      ],
      "text/plain": [
       "       NAME          PROJECT  EFFORT\n",
       "0  franklin         producty      10\n",
       "1  franklin         productz      10\n",
       "2  franklin  computerization      10\n",
       "3  franklin   reorganization      10\n",
       "4    alicia  computerization      10\n",
       "5     james   reorganization      10"
      ]
     },
     "execution_count": 20,
     "metadata": {},
     "output_type": "execute_result"
    }
   ],
   "source": [
    "conn = sqlite3.connect('database.db')\n",
    "\n",
    "df = pd.read_sql_query(\"SELECT * FROM workson WHERE EFFORT = 10\", conn)\n",
    "conn.close()\n",
    "\n",
    "df"
   ]
  }
 ],
 "metadata": {
  "kernelspec": {
   "display_name": "Python 3",
   "language": "python",
   "name": "python3"
  },
  "language_info": {
   "codemirror_mode": {
    "name": "ipython",
    "version": 3
   },
   "file_extension": ".py",
   "mimetype": "text/x-python",
   "name": "python",
   "nbconvert_exporter": "python",
   "pygments_lexer": "ipython3",
   "version": "3.12.2"
  }
 },
 "nbformat": 4,
 "nbformat_minor": 2
}
