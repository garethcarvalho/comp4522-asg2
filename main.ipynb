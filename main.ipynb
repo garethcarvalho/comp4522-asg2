{
 "cells": [
  {
   "cell_type": "code",
   "execution_count": 17,
   "metadata": {},
   "outputs": [],
   "source": [
    "import pandas as pd\n",
    "import sqlite3\n",
    "\n",
    "# A helper function I wrote to import the .csv files\n",
    "# into the sqlite database\n",
    "from helpers import create_table_from_csv\n"
   ]
  },
  {
   "cell_type": "code",
   "execution_count": 18,
   "metadata": {},
   "outputs": [],
   "source": [
    "conn = sqlite3.connect('database.db')\n",
    "cursor = conn.cursor()\n",
    "\n",
    "create_table_from_csv(cursor, 'department', ['TEXT', 'TEXT'])\n",
    "create_table_from_csv(cursor, 'employee', ['INT', 'TEXT'])\n",
    "create_table_from_csv(cursor, 'female', ['TEXT'])\n",
    "create_table_from_csv(cursor, 'male', ['TEXT'])\n",
    "create_table_from_csv(cursor, 'project', ['TEXT'])\n",
    "create_table_from_csv(cursor, 'salary', ['TEXT', 'INT'])\n",
    "create_table_from_csv(cursor, 'supervise', ['TEXT', 'TEXT'])\n",
    "create_table_from_csv(cursor, 'workson', ['TEXT', 'TEXT', 'INT'])\n",
    "\n",
    "conn.commit()\n",
    "conn.close()"
   ]
  },
  {
   "cell_type": "markdown",
   "metadata": {},
   "source": [
    "### Q1: Are there any employees that are \"female\" and that work in project \"computerization\" with an effort of \"10\" hours per week, and that have \"jennifer\" as a supervisor? If so, list them.\n",
    "\n"
   ]
  },
  {
   "cell_type": "code",
   "execution_count": 71,
   "metadata": {},
   "outputs": [
    {
     "data": {
      "text/html": [
       "<div>\n",
       "<style scoped>\n",
       "    .dataframe tbody tr th:only-of-type {\n",
       "        vertical-align: middle;\n",
       "    }\n",
       "\n",
       "    .dataframe tbody tr th {\n",
       "        vertical-align: top;\n",
       "    }\n",
       "\n",
       "    .dataframe thead th {\n",
       "        text-align: right;\n",
       "    }\n",
       "</style>\n",
       "<table border=\"1\" class=\"dataframe\">\n",
       "  <thead>\n",
       "    <tr style=\"text-align: right;\">\n",
       "      <th></th>\n",
       "      <th>EMPLOYEE_NAME</th>\n",
       "      <th>PROJECT</th>\n",
       "      <th>EFFORT</th>\n",
       "      <th>SUPERVISOR</th>\n",
       "    </tr>\n",
       "  </thead>\n",
       "  <tbody>\n",
       "    <tr>\n",
       "      <th>0</th>\n",
       "      <td>alicia</td>\n",
       "      <td>computerization</td>\n",
       "      <td>10</td>\n",
       "      <td>jennifer</td>\n",
       "    </tr>\n",
       "  </tbody>\n",
       "</table>\n",
       "</div>"
      ],
      "text/plain": [
       "  EMPLOYEE_NAME          PROJECT  EFFORT SUPERVISOR\n",
       "0        alicia  computerization      10   jennifer"
      ]
     },
     "execution_count": 71,
     "metadata": {},
     "output_type": "execute_result"
    }
   ],
   "source": [
    "conn = sqlite3.connect('database.db')\n",
    "\n",
    "df = pd.read_sql_query(\"\"\"\n",
    "    SELECT\n",
    "        employee.EMPLOYEE_NAME, workson.PROJECT, workson.EFFORT, supervise.SUPERVISOR\n",
    "    FROM\n",
    "        employee\n",
    "    INNER JOIN \n",
    "        female ON employee.EMPLOYEE_NAME = female.NAME\n",
    "    INNER JOIN \n",
    "        workson ON employee.EMPLOYEE_NAME = workson.NAME\n",
    "    INNER JOIN \n",
    "        supervise ON employee.EMPLOYEE_NAME = supervise.SUBORDINATE\n",
    "    WHERE \n",
    "        workson.EFFORT = 10 \n",
    "        AND \n",
    "        workson.PROJECT = 'computerization'\n",
    "        AND \n",
    "        supervise.SUPERVISOR = 'jennifer';                           \n",
    "\"\"\", conn)\n",
    "\n",
    "conn.close()\n",
    "df\n"
   ]
  },
  {
   "cell_type": "markdown",
   "metadata": {},
   "source": [
    "### Q2: Who is the employee who makes over \"40000\" dollars a year and works for the \"research\" department?"
   ]
  },
  {
   "cell_type": "code",
   "execution_count": 72,
   "metadata": {},
   "outputs": [
    {
     "data": {
      "text/html": [
       "<div>\n",
       "<style scoped>\n",
       "    .dataframe tbody tr th:only-of-type {\n",
       "        vertical-align: middle;\n",
       "    }\n",
       "\n",
       "    .dataframe tbody tr th {\n",
       "        vertical-align: top;\n",
       "    }\n",
       "\n",
       "    .dataframe thead th {\n",
       "        text-align: right;\n",
       "    }\n",
       "</style>\n",
       "<table border=\"1\" class=\"dataframe\">\n",
       "  <thead>\n",
       "    <tr style=\"text-align: right;\">\n",
       "      <th></th>\n",
       "      <th>EMPLOYEE_NAME</th>\n",
       "      <th>SALARY</th>\n",
       "      <th>DEPARTMENT</th>\n",
       "    </tr>\n",
       "  </thead>\n",
       "  <tbody>\n",
       "    <tr>\n",
       "      <th>0</th>\n",
       "      <td>franklin</td>\n",
       "      <td>40001</td>\n",
       "      <td>research</td>\n",
       "    </tr>\n",
       "  </tbody>\n",
       "</table>\n",
       "</div>"
      ],
      "text/plain": [
       "  EMPLOYEE_NAME  SALARY DEPARTMENT\n",
       "0      franklin   40001   research"
      ]
     },
     "execution_count": 72,
     "metadata": {},
     "output_type": "execute_result"
    }
   ],
   "source": [
    "conn = sqlite3.connect('database.db')\n",
    "\n",
    "df = pd.read_sql_query(\"\"\"\n",
    "    SELECT\n",
    "        employee.EMPLOYEE_NAME, salary.SALARY, department.DEPARTMENT\n",
    "    FROM \n",
    "        employee\n",
    "    INNER JOIN\n",
    "        salary ON employee.EMPLOYEE_NAME = salary.EMPLOYEE_NAME\n",
    "    INNER JOIN\n",
    "        department ON employee.EMPLOYEE_NAME = department.EMPLOYEE_NAME\n",
    "    WHERE\n",
    "        salary.SALARY > 40000\n",
    "        AND\n",
    "        department.DEPARTMENT = 'research';\n",
    "\"\"\", conn)\n",
    "\n",
    "conn.close()\n",
    "df"
   ]
  },
  {
   "cell_type": "markdown",
   "metadata": {},
   "source": [
    "### Q3: Who is the supreme chief of this fictional company (aka the President)?"
   ]
  },
  {
   "cell_type": "code",
   "execution_count": 73,
   "metadata": {},
   "outputs": [
    {
     "data": {
      "text/html": [
       "<div>\n",
       "<style scoped>\n",
       "    .dataframe tbody tr th:only-of-type {\n",
       "        vertical-align: middle;\n",
       "    }\n",
       "\n",
       "    .dataframe tbody tr th {\n",
       "        vertical-align: top;\n",
       "    }\n",
       "\n",
       "    .dataframe thead th {\n",
       "        text-align: right;\n",
       "    }\n",
       "</style>\n",
       "<table border=\"1\" class=\"dataframe\">\n",
       "  <thead>\n",
       "    <tr style=\"text-align: right;\">\n",
       "      <th></th>\n",
       "      <th>EMPLOYEE_NAME</th>\n",
       "      <th>COUNT(supervise.SUPERVISOR)</th>\n",
       "    </tr>\n",
       "  </thead>\n",
       "  <tbody>\n",
       "    <tr>\n",
       "      <th>0</th>\n",
       "      <td>james</td>\n",
       "      <td>0</td>\n",
       "    </tr>\n",
       "  </tbody>\n",
       "</table>\n",
       "</div>"
      ],
      "text/plain": [
       "  EMPLOYEE_NAME  COUNT(supervise.SUPERVISOR)\n",
       "0         james                            0"
      ]
     },
     "execution_count": 73,
     "metadata": {},
     "output_type": "execute_result"
    }
   ],
   "source": [
    "conn = sqlite3.connect('database.db')\n",
    "\n",
    "df = pd.read_sql_query(\"\"\"\n",
    "    SELECT\n",
    "        employee.EMPLOYEE_NAME, COUNT(supervise.SUPERVISOR)\n",
    "    FROM \n",
    "        employee\n",
    "    FULL OUTER JOIN\n",
    "        supervise ON employee.EMPLOYEE_NAME = supervise.SUBORDINATE     \n",
    "    GROUP BY\n",
    "        employee.EMPLOYEE_NAME\n",
    "    HAVING\n",
    "        COUNT(supervise.SUPERVISOR) = 0;\n",
    "\"\"\", conn)\n",
    "\n",
    "conn.close()\n",
    "df"
   ]
  },
  {
   "cell_type": "markdown",
   "metadata": {},
   "source": [
    "### Q4: Who are the individuals that work on project \"productx\" with an *effort* of 20 or more hours a week?"
   ]
  },
  {
   "cell_type": "code",
   "execution_count": 74,
   "metadata": {},
   "outputs": [
    {
     "data": {
      "text/html": [
       "<div>\n",
       "<style scoped>\n",
       "    .dataframe tbody tr th:only-of-type {\n",
       "        vertical-align: middle;\n",
       "    }\n",
       "\n",
       "    .dataframe tbody tr th {\n",
       "        vertical-align: top;\n",
       "    }\n",
       "\n",
       "    .dataframe thead th {\n",
       "        text-align: right;\n",
       "    }\n",
       "</style>\n",
       "<table border=\"1\" class=\"dataframe\">\n",
       "  <thead>\n",
       "    <tr style=\"text-align: right;\">\n",
       "      <th></th>\n",
       "      <th>EMPLOYEE_NAME</th>\n",
       "      <th>PROJECT</th>\n",
       "      <th>EFFORT</th>\n",
       "    </tr>\n",
       "  </thead>\n",
       "  <tbody>\n",
       "    <tr>\n",
       "      <th>0</th>\n",
       "      <td>john</td>\n",
       "      <td>productx</td>\n",
       "      <td>32</td>\n",
       "    </tr>\n",
       "    <tr>\n",
       "      <th>1</th>\n",
       "      <td>joyce</td>\n",
       "      <td>productx</td>\n",
       "      <td>20</td>\n",
       "    </tr>\n",
       "  </tbody>\n",
       "</table>\n",
       "</div>"
      ],
      "text/plain": [
       "  EMPLOYEE_NAME   PROJECT  EFFORT\n",
       "0          john  productx      32\n",
       "1         joyce  productx      20"
      ]
     },
     "execution_count": 74,
     "metadata": {},
     "output_type": "execute_result"
    }
   ],
   "source": [
    "conn = sqlite3.connect('database.db')\n",
    "\n",
    "df = pd.read_sql_query(\"\"\"\n",
    "    SELECT\n",
    "        employee.EMPLOYEE_NAME, workson.PROJECT, workson.EFFORT\n",
    "    FROM\n",
    "        employee\n",
    "    INNER JOIN\n",
    "        workson ON employee.EMPLOYEE_NAME = workson.NAME\n",
    "    WHERE\n",
    "        workson.PROJECT = 'productx'\n",
    "        AND\n",
    "        EFFORT >= 20;\n",
    "\"\"\", conn)\n",
    "\n",
    "conn.close()\n",
    "df"
   ]
  }
 ],
 "metadata": {
  "kernelspec": {
   "display_name": "Python 3",
   "language": "python",
   "name": "python3"
  },
  "language_info": {
   "codemirror_mode": {
    "name": "ipython",
    "version": 3
   },
   "file_extension": ".py",
   "mimetype": "text/x-python",
   "name": "python",
   "nbconvert_exporter": "python",
   "pygments_lexer": "ipython3",
   "version": "3.12.2"
  }
 },
 "nbformat": 4,
 "nbformat_minor": 2
}
